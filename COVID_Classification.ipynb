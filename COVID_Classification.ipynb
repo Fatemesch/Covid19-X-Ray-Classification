{
  "nbformat": 4,
  "nbformat_minor": 0,
  "metadata": {
    "colab": {
      "provenance": []
    },
    "kernelspec": {
      "name": "python3",
      "display_name": "Python 3"
    },
    "language_info": {
      "name": "python"
    }
  },
  "cells": [
    {
      "cell_type": "code",
      "execution_count": null,
      "metadata": {
        "colab": {
          "base_uri": "https://localhost:8080/"
        },
        "id": "8kmLCaUvdYY6",
        "outputId": "b8d8b245-8a15-465a-de3d-ceb2e538b8d1"
      },
      "outputs": [
        {
          "output_type": "stream",
          "name": "stdout",
          "text": [
            "Warning: Looks like you're using an outdated `kagglehub` version (installed: 0.3.6), please consider upgrading to the latest version (0.3.7).\n",
            "Downloading from https://www.kaggle.com/api/v1/datasets/download/pranavraikokte/covid19-image-dataset?dataset_version_number=2...\n"
          ]
        },
        {
          "output_type": "stream",
          "name": "stderr",
          "text": [
            "100%|██████████| 158M/158M [00:03<00:00, 54.2MB/s]"
          ]
        },
        {
          "output_type": "stream",
          "name": "stdout",
          "text": [
            "Extracting files...\n"
          ]
        },
        {
          "output_type": "stream",
          "name": "stderr",
          "text": [
            "\n"
          ]
        },
        {
          "output_type": "stream",
          "name": "stdout",
          "text": [
            "Path to dataset files: /root/.cache/kagglehub/datasets/pranavraikokte/covid19-image-dataset/versions/2\n"
          ]
        }
      ],
      "source": [
        "import kagglehub\n",
        "\n",
        "# Download latest version\n",
        "path = kagglehub.dataset_download(\"pranavraikokte/covid19-image-dataset\")\n",
        "\n",
        "print(\"Path to dataset files:\", path)"
      ]
    },
    {
      "cell_type": "code",
      "source": [
        "mv /root/.cache/kagglehub/datasets/pranavraikokte/covid19-image-dataset/versions/2 /content/covid_dataset"
      ],
      "metadata": {
        "id": "d5XWnXxFx-M0"
      },
      "execution_count": null,
      "outputs": []
    },
    {
      "cell_type": "code",
      "source": [
        "import torch\n",
        "import torchvision"
      ],
      "metadata": {
        "id": "s7WVNk9Hfpgb"
      },
      "execution_count": null,
      "outputs": []
    },
    {
      "cell_type": "code",
      "source": [
        "# Define transformations\n",
        "import torchvision.transforms as transforms\n",
        "my_transform = transforms.Compose([\n",
        "    transforms.Resize((128, 128)),  # Resize images to 224x224\n",
        "    transforms.ToTensor(),  # Convert images to PyTorch tensors\n",
        "    transforms.Normalize(mean=[0.485, 0.456, 0.406], std=[0.229, 0.224, 0.225]) # Normalize images\n",
        "])"
      ],
      "metadata": {
        "id": "NKxQDEFsg0Bk"
      },
      "execution_count": null,
      "outputs": []
    },
    {
      "cell_type": "code",
      "source": [
        "train_dataset = torchvision.datasets.ImageFolder('/content/covid_dataset/Covid19-dataset/train', transform=my_transform)\n",
        "train_loader = torch.utils.data.DataLoader(train_dataset, batch_size=8, shuffle=True)"
      ],
      "metadata": {
        "id": "AERba2WPf3Yx"
      },
      "execution_count": null,
      "outputs": []
    },
    {
      "cell_type": "code",
      "source": [
        "for i in train_loader:\n",
        "  print(i[0].shape, i[1])"
      ],
      "metadata": {
        "colab": {
          "base_uri": "https://localhost:8080/",
          "height": 555
        },
        "id": "jrkdW356gCWD",
        "outputId": "0c5d5c3b-20d9-45e4-8719-fa477789bf06"
      },
      "execution_count": null,
      "outputs": [
        {
          "output_type": "stream",
          "name": "stdout",
          "text": [
            "torch.Size([8, 3, 128, 128]) tensor([2, 0, 2, 0, 2, 0, 0, 1])\n",
            "torch.Size([8, 3, 128, 128]) tensor([0, 0, 1, 0, 1, 0, 2, 1])\n",
            "torch.Size([8, 3, 128, 128]) tensor([1, 0, 1, 2, 0, 0, 2, 1])\n",
            "torch.Size([8, 3, 128, 128]) tensor([0, 0, 2, 1, 2, 0, 2, 0])\n",
            "torch.Size([8, 3, 128, 128]) tensor([2, 2, 1, 0, 0, 2, 2, 2])\n",
            "torch.Size([8, 3, 128, 128]) tensor([2, 2, 0, 0, 0, 2, 2, 2])\n",
            "torch.Size([8, 3, 128, 128]) tensor([1, 1, 0, 0, 1, 2, 2, 0])\n",
            "torch.Size([8, 3, 128, 128]) tensor([0, 0, 0, 0, 2, 2, 0, 0])\n",
            "torch.Size([8, 3, 128, 128]) tensor([0, 1, 1, 0, 0, 2, 2, 2])\n",
            "torch.Size([8, 3, 128, 128]) tensor([1, 2, 2, 0, 0, 0, 0, 2])\n",
            "torch.Size([8, 3, 128, 128]) tensor([2, 1, 1, 1, 1, 1, 0, 0])\n",
            "torch.Size([8, 3, 128, 128]) tensor([2, 2, 1, 1, 0, 0, 2, 2])\n",
            "torch.Size([8, 3, 128, 128]) tensor([2, 2, 1, 1, 2, 0, 0, 0])\n",
            "torch.Size([8, 3, 128, 128]) tensor([2, 0, 1, 1, 2, 1, 0, 1])\n",
            "torch.Size([8, 3, 128, 128]) tensor([0, 1, 0, 0, 2, 0, 2, 1])\n",
            "torch.Size([8, 3, 128, 128]) tensor([0, 1, 0, 1, 2, 1, 1, 0])\n"
          ]
        },
        {
          "output_type": "error",
          "ename": "KeyboardInterrupt",
          "evalue": "",
          "traceback": [
            "\u001b[0;31m---------------------------------------------------------------------------\u001b[0m",
            "\u001b[0;31mKeyboardInterrupt\u001b[0m                         Traceback (most recent call last)",
            "\u001b[0;32m<ipython-input-6-475505e50525>\u001b[0m in \u001b[0;36m<cell line: 0>\u001b[0;34m()\u001b[0m\n\u001b[0;32m----> 1\u001b[0;31m \u001b[0;32mfor\u001b[0m \u001b[0mi\u001b[0m \u001b[0;32min\u001b[0m \u001b[0mtrain_loader\u001b[0m\u001b[0;34m:\u001b[0m\u001b[0;34m\u001b[0m\u001b[0;34m\u001b[0m\u001b[0m\n\u001b[0m\u001b[1;32m      2\u001b[0m   \u001b[0mprint\u001b[0m\u001b[0;34m(\u001b[0m\u001b[0mi\u001b[0m\u001b[0;34m[\u001b[0m\u001b[0;36m0\u001b[0m\u001b[0;34m]\u001b[0m\u001b[0;34m.\u001b[0m\u001b[0mshape\u001b[0m\u001b[0;34m,\u001b[0m \u001b[0mi\u001b[0m\u001b[0;34m[\u001b[0m\u001b[0;36m1\u001b[0m\u001b[0;34m]\u001b[0m\u001b[0;34m)\u001b[0m\u001b[0;34m\u001b[0m\u001b[0;34m\u001b[0m\u001b[0m\n",
            "\u001b[0;32m/usr/local/lib/python3.11/dist-packages/torch/utils/data/dataloader.py\u001b[0m in \u001b[0;36m__next__\u001b[0;34m(self)\u001b[0m\n\u001b[1;32m    699\u001b[0m                 \u001b[0;31m# TODO(https://github.com/pytorch/pytorch/issues/76750)\u001b[0m\u001b[0;34m\u001b[0m\u001b[0;34m\u001b[0m\u001b[0m\n\u001b[1;32m    700\u001b[0m                 \u001b[0mself\u001b[0m\u001b[0;34m.\u001b[0m\u001b[0m_reset\u001b[0m\u001b[0;34m(\u001b[0m\u001b[0;34m)\u001b[0m  \u001b[0;31m# type: ignore[call-arg]\u001b[0m\u001b[0;34m\u001b[0m\u001b[0;34m\u001b[0m\u001b[0m\n\u001b[0;32m--> 701\u001b[0;31m             \u001b[0mdata\u001b[0m \u001b[0;34m=\u001b[0m \u001b[0mself\u001b[0m\u001b[0;34m.\u001b[0m\u001b[0m_next_data\u001b[0m\u001b[0;34m(\u001b[0m\u001b[0;34m)\u001b[0m\u001b[0;34m\u001b[0m\u001b[0;34m\u001b[0m\u001b[0m\n\u001b[0m\u001b[1;32m    702\u001b[0m             \u001b[0mself\u001b[0m\u001b[0;34m.\u001b[0m\u001b[0m_num_yielded\u001b[0m \u001b[0;34m+=\u001b[0m \u001b[0;36m1\u001b[0m\u001b[0;34m\u001b[0m\u001b[0;34m\u001b[0m\u001b[0m\n\u001b[1;32m    703\u001b[0m             if (\n",
            "\u001b[0;32m/usr/local/lib/python3.11/dist-packages/torch/utils/data/dataloader.py\u001b[0m in \u001b[0;36m_next_data\u001b[0;34m(self)\u001b[0m\n\u001b[1;32m    755\u001b[0m     \u001b[0;32mdef\u001b[0m \u001b[0m_next_data\u001b[0m\u001b[0;34m(\u001b[0m\u001b[0mself\u001b[0m\u001b[0;34m)\u001b[0m\u001b[0;34m:\u001b[0m\u001b[0;34m\u001b[0m\u001b[0;34m\u001b[0m\u001b[0m\n\u001b[1;32m    756\u001b[0m         \u001b[0mindex\u001b[0m \u001b[0;34m=\u001b[0m \u001b[0mself\u001b[0m\u001b[0;34m.\u001b[0m\u001b[0m_next_index\u001b[0m\u001b[0;34m(\u001b[0m\u001b[0;34m)\u001b[0m  \u001b[0;31m# may raise StopIteration\u001b[0m\u001b[0;34m\u001b[0m\u001b[0;34m\u001b[0m\u001b[0m\n\u001b[0;32m--> 757\u001b[0;31m         \u001b[0mdata\u001b[0m \u001b[0;34m=\u001b[0m \u001b[0mself\u001b[0m\u001b[0;34m.\u001b[0m\u001b[0m_dataset_fetcher\u001b[0m\u001b[0;34m.\u001b[0m\u001b[0mfetch\u001b[0m\u001b[0;34m(\u001b[0m\u001b[0mindex\u001b[0m\u001b[0;34m)\u001b[0m  \u001b[0;31m# may raise StopIteration\u001b[0m\u001b[0;34m\u001b[0m\u001b[0;34m\u001b[0m\u001b[0m\n\u001b[0m\u001b[1;32m    758\u001b[0m         \u001b[0;32mif\u001b[0m \u001b[0mself\u001b[0m\u001b[0;34m.\u001b[0m\u001b[0m_pin_memory\u001b[0m\u001b[0;34m:\u001b[0m\u001b[0;34m\u001b[0m\u001b[0;34m\u001b[0m\u001b[0m\n\u001b[1;32m    759\u001b[0m             \u001b[0mdata\u001b[0m \u001b[0;34m=\u001b[0m \u001b[0m_utils\u001b[0m\u001b[0;34m.\u001b[0m\u001b[0mpin_memory\u001b[0m\u001b[0;34m.\u001b[0m\u001b[0mpin_memory\u001b[0m\u001b[0;34m(\u001b[0m\u001b[0mdata\u001b[0m\u001b[0;34m,\u001b[0m \u001b[0mself\u001b[0m\u001b[0;34m.\u001b[0m\u001b[0m_pin_memory_device\u001b[0m\u001b[0;34m)\u001b[0m\u001b[0;34m\u001b[0m\u001b[0;34m\u001b[0m\u001b[0m\n",
            "\u001b[0;32m/usr/local/lib/python3.11/dist-packages/torch/utils/data/_utils/fetch.py\u001b[0m in \u001b[0;36mfetch\u001b[0;34m(self, possibly_batched_index)\u001b[0m\n\u001b[1;32m     50\u001b[0m                 \u001b[0mdata\u001b[0m \u001b[0;34m=\u001b[0m \u001b[0mself\u001b[0m\u001b[0;34m.\u001b[0m\u001b[0mdataset\u001b[0m\u001b[0;34m.\u001b[0m\u001b[0m__getitems__\u001b[0m\u001b[0;34m(\u001b[0m\u001b[0mpossibly_batched_index\u001b[0m\u001b[0;34m)\u001b[0m\u001b[0;34m\u001b[0m\u001b[0;34m\u001b[0m\u001b[0m\n\u001b[1;32m     51\u001b[0m             \u001b[0;32melse\u001b[0m\u001b[0;34m:\u001b[0m\u001b[0;34m\u001b[0m\u001b[0;34m\u001b[0m\u001b[0m\n\u001b[0;32m---> 52\u001b[0;31m                 \u001b[0mdata\u001b[0m \u001b[0;34m=\u001b[0m \u001b[0;34m[\u001b[0m\u001b[0mself\u001b[0m\u001b[0;34m.\u001b[0m\u001b[0mdataset\u001b[0m\u001b[0;34m[\u001b[0m\u001b[0midx\u001b[0m\u001b[0;34m]\u001b[0m \u001b[0;32mfor\u001b[0m \u001b[0midx\u001b[0m \u001b[0;32min\u001b[0m \u001b[0mpossibly_batched_index\u001b[0m\u001b[0;34m]\u001b[0m\u001b[0;34m\u001b[0m\u001b[0;34m\u001b[0m\u001b[0m\n\u001b[0m\u001b[1;32m     53\u001b[0m         \u001b[0;32melse\u001b[0m\u001b[0;34m:\u001b[0m\u001b[0;34m\u001b[0m\u001b[0;34m\u001b[0m\u001b[0m\n\u001b[1;32m     54\u001b[0m             \u001b[0mdata\u001b[0m \u001b[0;34m=\u001b[0m \u001b[0mself\u001b[0m\u001b[0;34m.\u001b[0m\u001b[0mdataset\u001b[0m\u001b[0;34m[\u001b[0m\u001b[0mpossibly_batched_index\u001b[0m\u001b[0;34m]\u001b[0m\u001b[0;34m\u001b[0m\u001b[0;34m\u001b[0m\u001b[0m\n",
            "\u001b[0;32m/usr/local/lib/python3.11/dist-packages/torch/utils/data/_utils/fetch.py\u001b[0m in \u001b[0;36m<listcomp>\u001b[0;34m(.0)\u001b[0m\n\u001b[1;32m     50\u001b[0m                 \u001b[0mdata\u001b[0m \u001b[0;34m=\u001b[0m \u001b[0mself\u001b[0m\u001b[0;34m.\u001b[0m\u001b[0mdataset\u001b[0m\u001b[0;34m.\u001b[0m\u001b[0m__getitems__\u001b[0m\u001b[0;34m(\u001b[0m\u001b[0mpossibly_batched_index\u001b[0m\u001b[0;34m)\u001b[0m\u001b[0;34m\u001b[0m\u001b[0;34m\u001b[0m\u001b[0m\n\u001b[1;32m     51\u001b[0m             \u001b[0;32melse\u001b[0m\u001b[0;34m:\u001b[0m\u001b[0;34m\u001b[0m\u001b[0;34m\u001b[0m\u001b[0m\n\u001b[0;32m---> 52\u001b[0;31m                 \u001b[0mdata\u001b[0m \u001b[0;34m=\u001b[0m \u001b[0;34m[\u001b[0m\u001b[0mself\u001b[0m\u001b[0;34m.\u001b[0m\u001b[0mdataset\u001b[0m\u001b[0;34m[\u001b[0m\u001b[0midx\u001b[0m\u001b[0;34m]\u001b[0m \u001b[0;32mfor\u001b[0m \u001b[0midx\u001b[0m \u001b[0;32min\u001b[0m \u001b[0mpossibly_batched_index\u001b[0m\u001b[0;34m]\u001b[0m\u001b[0;34m\u001b[0m\u001b[0;34m\u001b[0m\u001b[0m\n\u001b[0m\u001b[1;32m     53\u001b[0m         \u001b[0;32melse\u001b[0m\u001b[0;34m:\u001b[0m\u001b[0;34m\u001b[0m\u001b[0;34m\u001b[0m\u001b[0m\n\u001b[1;32m     54\u001b[0m             \u001b[0mdata\u001b[0m \u001b[0;34m=\u001b[0m \u001b[0mself\u001b[0m\u001b[0;34m.\u001b[0m\u001b[0mdataset\u001b[0m\u001b[0;34m[\u001b[0m\u001b[0mpossibly_batched_index\u001b[0m\u001b[0;34m]\u001b[0m\u001b[0;34m\u001b[0m\u001b[0;34m\u001b[0m\u001b[0m\n",
            "\u001b[0;32m/usr/local/lib/python3.11/dist-packages/torchvision/datasets/folder.py\u001b[0m in \u001b[0;36m__getitem__\u001b[0;34m(self, index)\u001b[0m\n\u001b[1;32m    245\u001b[0m         \u001b[0msample\u001b[0m \u001b[0;34m=\u001b[0m \u001b[0mself\u001b[0m\u001b[0;34m.\u001b[0m\u001b[0mloader\u001b[0m\u001b[0;34m(\u001b[0m\u001b[0mpath\u001b[0m\u001b[0;34m)\u001b[0m\u001b[0;34m\u001b[0m\u001b[0;34m\u001b[0m\u001b[0m\n\u001b[1;32m    246\u001b[0m         \u001b[0;32mif\u001b[0m \u001b[0mself\u001b[0m\u001b[0;34m.\u001b[0m\u001b[0mtransform\u001b[0m \u001b[0;32mis\u001b[0m \u001b[0;32mnot\u001b[0m \u001b[0;32mNone\u001b[0m\u001b[0;34m:\u001b[0m\u001b[0;34m\u001b[0m\u001b[0;34m\u001b[0m\u001b[0m\n\u001b[0;32m--> 247\u001b[0;31m             \u001b[0msample\u001b[0m \u001b[0;34m=\u001b[0m \u001b[0mself\u001b[0m\u001b[0;34m.\u001b[0m\u001b[0mtransform\u001b[0m\u001b[0;34m(\u001b[0m\u001b[0msample\u001b[0m\u001b[0;34m)\u001b[0m\u001b[0;34m\u001b[0m\u001b[0;34m\u001b[0m\u001b[0m\n\u001b[0m\u001b[1;32m    248\u001b[0m         \u001b[0;32mif\u001b[0m \u001b[0mself\u001b[0m\u001b[0;34m.\u001b[0m\u001b[0mtarget_transform\u001b[0m \u001b[0;32mis\u001b[0m \u001b[0;32mnot\u001b[0m \u001b[0;32mNone\u001b[0m\u001b[0;34m:\u001b[0m\u001b[0;34m\u001b[0m\u001b[0;34m\u001b[0m\u001b[0m\n\u001b[1;32m    249\u001b[0m             \u001b[0mtarget\u001b[0m \u001b[0;34m=\u001b[0m \u001b[0mself\u001b[0m\u001b[0;34m.\u001b[0m\u001b[0mtarget_transform\u001b[0m\u001b[0;34m(\u001b[0m\u001b[0mtarget\u001b[0m\u001b[0;34m)\u001b[0m\u001b[0;34m\u001b[0m\u001b[0;34m\u001b[0m\u001b[0m\n",
            "\u001b[0;32m/usr/local/lib/python3.11/dist-packages/torchvision/transforms/transforms.py\u001b[0m in \u001b[0;36m__call__\u001b[0;34m(self, img)\u001b[0m\n\u001b[1;32m     93\u001b[0m     \u001b[0;32mdef\u001b[0m \u001b[0m__call__\u001b[0m\u001b[0;34m(\u001b[0m\u001b[0mself\u001b[0m\u001b[0;34m,\u001b[0m \u001b[0mimg\u001b[0m\u001b[0;34m)\u001b[0m\u001b[0;34m:\u001b[0m\u001b[0;34m\u001b[0m\u001b[0;34m\u001b[0m\u001b[0m\n\u001b[1;32m     94\u001b[0m         \u001b[0;32mfor\u001b[0m \u001b[0mt\u001b[0m \u001b[0;32min\u001b[0m \u001b[0mself\u001b[0m\u001b[0;34m.\u001b[0m\u001b[0mtransforms\u001b[0m\u001b[0;34m:\u001b[0m\u001b[0;34m\u001b[0m\u001b[0;34m\u001b[0m\u001b[0m\n\u001b[0;32m---> 95\u001b[0;31m             \u001b[0mimg\u001b[0m \u001b[0;34m=\u001b[0m \u001b[0mt\u001b[0m\u001b[0;34m(\u001b[0m\u001b[0mimg\u001b[0m\u001b[0;34m)\u001b[0m\u001b[0;34m\u001b[0m\u001b[0;34m\u001b[0m\u001b[0m\n\u001b[0m\u001b[1;32m     96\u001b[0m         \u001b[0;32mreturn\u001b[0m \u001b[0mimg\u001b[0m\u001b[0;34m\u001b[0m\u001b[0;34m\u001b[0m\u001b[0m\n\u001b[1;32m     97\u001b[0m \u001b[0;34m\u001b[0m\u001b[0m\n",
            "\u001b[0;32m/usr/local/lib/python3.11/dist-packages/torch/nn/modules/module.py\u001b[0m in \u001b[0;36m_wrapped_call_impl\u001b[0;34m(self, *args, **kwargs)\u001b[0m\n\u001b[1;32m   1734\u001b[0m             \u001b[0;32mreturn\u001b[0m \u001b[0mself\u001b[0m\u001b[0;34m.\u001b[0m\u001b[0m_compiled_call_impl\u001b[0m\u001b[0;34m(\u001b[0m\u001b[0;34m*\u001b[0m\u001b[0margs\u001b[0m\u001b[0;34m,\u001b[0m \u001b[0;34m**\u001b[0m\u001b[0mkwargs\u001b[0m\u001b[0;34m)\u001b[0m  \u001b[0;31m# type: ignore[misc]\u001b[0m\u001b[0;34m\u001b[0m\u001b[0;34m\u001b[0m\u001b[0m\n\u001b[1;32m   1735\u001b[0m         \u001b[0;32melse\u001b[0m\u001b[0;34m:\u001b[0m\u001b[0;34m\u001b[0m\u001b[0;34m\u001b[0m\u001b[0m\n\u001b[0;32m-> 1736\u001b[0;31m             \u001b[0;32mreturn\u001b[0m \u001b[0mself\u001b[0m\u001b[0;34m.\u001b[0m\u001b[0m_call_impl\u001b[0m\u001b[0;34m(\u001b[0m\u001b[0;34m*\u001b[0m\u001b[0margs\u001b[0m\u001b[0;34m,\u001b[0m \u001b[0;34m**\u001b[0m\u001b[0mkwargs\u001b[0m\u001b[0;34m)\u001b[0m\u001b[0;34m\u001b[0m\u001b[0;34m\u001b[0m\u001b[0m\n\u001b[0m\u001b[1;32m   1737\u001b[0m \u001b[0;34m\u001b[0m\u001b[0m\n\u001b[1;32m   1738\u001b[0m     \u001b[0;31m# torchrec tests the code consistency with the following code\u001b[0m\u001b[0;34m\u001b[0m\u001b[0;34m\u001b[0m\u001b[0m\n",
            "\u001b[0;32m/usr/local/lib/python3.11/dist-packages/torch/nn/modules/module.py\u001b[0m in \u001b[0;36m_call_impl\u001b[0;34m(self, *args, **kwargs)\u001b[0m\n\u001b[1;32m   1745\u001b[0m                 \u001b[0;32mor\u001b[0m \u001b[0m_global_backward_pre_hooks\u001b[0m \u001b[0;32mor\u001b[0m \u001b[0m_global_backward_hooks\u001b[0m\u001b[0;34m\u001b[0m\u001b[0;34m\u001b[0m\u001b[0m\n\u001b[1;32m   1746\u001b[0m                 or _global_forward_hooks or _global_forward_pre_hooks):\n\u001b[0;32m-> 1747\u001b[0;31m             \u001b[0;32mreturn\u001b[0m \u001b[0mforward_call\u001b[0m\u001b[0;34m(\u001b[0m\u001b[0;34m*\u001b[0m\u001b[0margs\u001b[0m\u001b[0;34m,\u001b[0m \u001b[0;34m**\u001b[0m\u001b[0mkwargs\u001b[0m\u001b[0;34m)\u001b[0m\u001b[0;34m\u001b[0m\u001b[0;34m\u001b[0m\u001b[0m\n\u001b[0m\u001b[1;32m   1748\u001b[0m \u001b[0;34m\u001b[0m\u001b[0m\n\u001b[1;32m   1749\u001b[0m         \u001b[0mresult\u001b[0m \u001b[0;34m=\u001b[0m \u001b[0;32mNone\u001b[0m\u001b[0;34m\u001b[0m\u001b[0;34m\u001b[0m\u001b[0m\n",
            "\u001b[0;32m/usr/local/lib/python3.11/dist-packages/torchvision/transforms/transforms.py\u001b[0m in \u001b[0;36mforward\u001b[0;34m(self, img)\u001b[0m\n\u001b[1;32m    352\u001b[0m             \u001b[0mPIL\u001b[0m \u001b[0mImage\u001b[0m \u001b[0;32mor\u001b[0m \u001b[0mTensor\u001b[0m\u001b[0;34m:\u001b[0m \u001b[0mRescaled\u001b[0m \u001b[0mimage\u001b[0m\u001b[0;34m.\u001b[0m\u001b[0;34m\u001b[0m\u001b[0;34m\u001b[0m\u001b[0m\n\u001b[1;32m    353\u001b[0m         \"\"\"\n\u001b[0;32m--> 354\u001b[0;31m         \u001b[0;32mreturn\u001b[0m \u001b[0mF\u001b[0m\u001b[0;34m.\u001b[0m\u001b[0mresize\u001b[0m\u001b[0;34m(\u001b[0m\u001b[0mimg\u001b[0m\u001b[0;34m,\u001b[0m \u001b[0mself\u001b[0m\u001b[0;34m.\u001b[0m\u001b[0msize\u001b[0m\u001b[0;34m,\u001b[0m \u001b[0mself\u001b[0m\u001b[0;34m.\u001b[0m\u001b[0minterpolation\u001b[0m\u001b[0;34m,\u001b[0m \u001b[0mself\u001b[0m\u001b[0;34m.\u001b[0m\u001b[0mmax_size\u001b[0m\u001b[0;34m,\u001b[0m \u001b[0mself\u001b[0m\u001b[0;34m.\u001b[0m\u001b[0mantialias\u001b[0m\u001b[0;34m)\u001b[0m\u001b[0;34m\u001b[0m\u001b[0;34m\u001b[0m\u001b[0m\n\u001b[0m\u001b[1;32m    355\u001b[0m \u001b[0;34m\u001b[0m\u001b[0m\n\u001b[1;32m    356\u001b[0m     \u001b[0;32mdef\u001b[0m \u001b[0m__repr__\u001b[0m\u001b[0;34m(\u001b[0m\u001b[0mself\u001b[0m\u001b[0;34m)\u001b[0m \u001b[0;34m->\u001b[0m \u001b[0mstr\u001b[0m\u001b[0;34m:\u001b[0m\u001b[0;34m\u001b[0m\u001b[0;34m\u001b[0m\u001b[0m\n",
            "\u001b[0;32m/usr/local/lib/python3.11/dist-packages/torchvision/transforms/functional.py\u001b[0m in \u001b[0;36mresize\u001b[0;34m(img, size, interpolation, max_size, antialias)\u001b[0m\n\u001b[1;32m    475\u001b[0m             \u001b[0mwarnings\u001b[0m\u001b[0;34m.\u001b[0m\u001b[0mwarn\u001b[0m\u001b[0;34m(\u001b[0m\u001b[0;34m\"Anti-alias option is always applied for PIL Image input. Argument antialias is ignored.\"\u001b[0m\u001b[0;34m)\u001b[0m\u001b[0;34m\u001b[0m\u001b[0;34m\u001b[0m\u001b[0m\n\u001b[1;32m    476\u001b[0m         \u001b[0mpil_interpolation\u001b[0m \u001b[0;34m=\u001b[0m \u001b[0mpil_modes_mapping\u001b[0m\u001b[0;34m[\u001b[0m\u001b[0minterpolation\u001b[0m\u001b[0;34m]\u001b[0m\u001b[0;34m\u001b[0m\u001b[0;34m\u001b[0m\u001b[0m\n\u001b[0;32m--> 477\u001b[0;31m         \u001b[0;32mreturn\u001b[0m \u001b[0mF_pil\u001b[0m\u001b[0;34m.\u001b[0m\u001b[0mresize\u001b[0m\u001b[0;34m(\u001b[0m\u001b[0mimg\u001b[0m\u001b[0;34m,\u001b[0m \u001b[0msize\u001b[0m\u001b[0;34m=\u001b[0m\u001b[0moutput_size\u001b[0m\u001b[0;34m,\u001b[0m \u001b[0minterpolation\u001b[0m\u001b[0;34m=\u001b[0m\u001b[0mpil_interpolation\u001b[0m\u001b[0;34m)\u001b[0m\u001b[0;34m\u001b[0m\u001b[0;34m\u001b[0m\u001b[0m\n\u001b[0m\u001b[1;32m    478\u001b[0m \u001b[0;34m\u001b[0m\u001b[0m\n\u001b[1;32m    479\u001b[0m     \u001b[0;32mreturn\u001b[0m \u001b[0mF_t\u001b[0m\u001b[0;34m.\u001b[0m\u001b[0mresize\u001b[0m\u001b[0;34m(\u001b[0m\u001b[0mimg\u001b[0m\u001b[0;34m,\u001b[0m \u001b[0msize\u001b[0m\u001b[0;34m=\u001b[0m\u001b[0moutput_size\u001b[0m\u001b[0;34m,\u001b[0m \u001b[0minterpolation\u001b[0m\u001b[0;34m=\u001b[0m\u001b[0minterpolation\u001b[0m\u001b[0;34m.\u001b[0m\u001b[0mvalue\u001b[0m\u001b[0;34m,\u001b[0m \u001b[0mantialias\u001b[0m\u001b[0;34m=\u001b[0m\u001b[0mantialias\u001b[0m\u001b[0;34m)\u001b[0m\u001b[0;34m\u001b[0m\u001b[0;34m\u001b[0m\u001b[0m\n",
            "\u001b[0;32m/usr/local/lib/python3.11/dist-packages/torchvision/transforms/_functional_pil.py\u001b[0m in \u001b[0;36mresize\u001b[0;34m(img, size, interpolation)\u001b[0m\n\u001b[1;32m    248\u001b[0m         \u001b[0;32mraise\u001b[0m \u001b[0mTypeError\u001b[0m\u001b[0;34m(\u001b[0m\u001b[0;34mf\"Got inappropriate size arg: {size}\"\u001b[0m\u001b[0;34m)\u001b[0m\u001b[0;34m\u001b[0m\u001b[0;34m\u001b[0m\u001b[0m\n\u001b[1;32m    249\u001b[0m \u001b[0;34m\u001b[0m\u001b[0m\n\u001b[0;32m--> 250\u001b[0;31m     \u001b[0;32mreturn\u001b[0m \u001b[0mimg\u001b[0m\u001b[0;34m.\u001b[0m\u001b[0mresize\u001b[0m\u001b[0;34m(\u001b[0m\u001b[0mtuple\u001b[0m\u001b[0;34m(\u001b[0m\u001b[0msize\u001b[0m\u001b[0;34m[\u001b[0m\u001b[0;34m:\u001b[0m\u001b[0;34m:\u001b[0m\u001b[0;34m-\u001b[0m\u001b[0;36m1\u001b[0m\u001b[0;34m]\u001b[0m\u001b[0;34m)\u001b[0m\u001b[0;34m,\u001b[0m \u001b[0minterpolation\u001b[0m\u001b[0;34m)\u001b[0m\u001b[0;34m\u001b[0m\u001b[0;34m\u001b[0m\u001b[0m\n\u001b[0m\u001b[1;32m    251\u001b[0m \u001b[0;34m\u001b[0m\u001b[0m\n\u001b[1;32m    252\u001b[0m \u001b[0;34m\u001b[0m\u001b[0m\n",
            "\u001b[0;32m/usr/local/lib/python3.11/dist-packages/PIL/Image.py\u001b[0m in \u001b[0;36mresize\u001b[0;34m(self, size, resample, box, reducing_gap)\u001b[0m\n\u001b[1;32m   2354\u001b[0m                 )\n\u001b[1;32m   2355\u001b[0m \u001b[0;34m\u001b[0m\u001b[0m\n\u001b[0;32m-> 2356\u001b[0;31m         \u001b[0;32mreturn\u001b[0m \u001b[0mself\u001b[0m\u001b[0;34m.\u001b[0m\u001b[0m_new\u001b[0m\u001b[0;34m(\u001b[0m\u001b[0mself\u001b[0m\u001b[0;34m.\u001b[0m\u001b[0mim\u001b[0m\u001b[0;34m.\u001b[0m\u001b[0mresize\u001b[0m\u001b[0;34m(\u001b[0m\u001b[0msize\u001b[0m\u001b[0;34m,\u001b[0m \u001b[0mresample\u001b[0m\u001b[0;34m,\u001b[0m \u001b[0mbox\u001b[0m\u001b[0;34m)\u001b[0m\u001b[0;34m)\u001b[0m\u001b[0;34m\u001b[0m\u001b[0;34m\u001b[0m\u001b[0m\n\u001b[0m\u001b[1;32m   2357\u001b[0m \u001b[0;34m\u001b[0m\u001b[0m\n\u001b[1;32m   2358\u001b[0m     def reduce(\n",
            "\u001b[0;31mKeyboardInterrupt\u001b[0m: "
          ]
        }
      ]
    },
    {
      "cell_type": "code",
      "source": [
        "test_dataset = torchvision.datasets.ImageFolder('/content/covid_dataset/Covid19-dataset/test', transform=my_transform)\n",
        "test_loader = torch.utils.data.DataLoader(test_dataset, batch_size=8, shuffle=True)"
      ],
      "metadata": {
        "id": "GcGPQ9WPh5hz"
      },
      "execution_count": null,
      "outputs": []
    },
    {
      "cell_type": "code",
      "source": [
        "for i in test_loader:\n",
        "  print(i[0].shape, i[1])"
      ],
      "metadata": {
        "colab": {
          "base_uri": "https://localhost:8080/"
        },
        "id": "rioyxouqhkbu",
        "outputId": "c71b44a6-b834-48f4-83a2-80110a697dc6"
      },
      "execution_count": null,
      "outputs": [
        {
          "output_type": "stream",
          "name": "stdout",
          "text": [
            "torch.Size([8, 3, 128, 128]) tensor([1, 1, 2, 1, 2, 2, 2, 0])\n",
            "torch.Size([8, 3, 128, 128]) tensor([2, 2, 2, 1, 0, 2, 1, 1])\n",
            "torch.Size([8, 3, 128, 128]) tensor([0, 0, 1, 0, 2, 0, 1, 0])\n",
            "torch.Size([8, 3, 128, 128]) tensor([0, 0, 0, 2, 0, 1, 0, 1])\n",
            "torch.Size([8, 3, 128, 128]) tensor([0, 1, 0, 0, 0, 0, 0, 1])\n",
            "torch.Size([8, 3, 128, 128]) tensor([1, 0, 2, 2, 2, 0, 1, 2])\n",
            "torch.Size([8, 3, 128, 128]) tensor([1, 0, 0, 0, 2, 2, 1, 1])\n",
            "torch.Size([8, 3, 128, 128]) tensor([2, 0, 0, 2, 1, 2, 0, 1])\n",
            "torch.Size([2, 3, 128, 128]) tensor([2, 1])\n"
          ]
        }
      ]
    },
    {
      "cell_type": "code",
      "source": [
        "import torch\n",
        "import torch.nn as nn\n",
        "\n",
        "# Define the model\n",
        "model = nn.Sequential(\n",
        "    # First convolutional block\n",
        "    nn.Conv2d(in_channels=3, out_channels=6, kernel_size=3, padding=1),\n",
        "    nn.MaxPool2d(2),\n",
        "    nn.BatchNorm2d(6),\n",
        "    nn.ReLU(),\n",
        "# size: 64\n",
        "    # Second convolutional block\n",
        "    nn.Conv2d(in_channels=6, out_channels=12, kernel_size=3, padding=1),\n",
        "    nn.MaxPool2d(2),\n",
        "    nn.BatchNorm2d(12),\n",
        "    nn.ReLU(),\n",
        "#size: 32\n",
        " nn.Conv2d(in_channels=12, out_channels=24, kernel_size=3, padding=1),\n",
        "    nn.MaxPool2d(2),\n",
        "    nn.BatchNorm2d(24),\n",
        "    nn.ReLU(),\n",
        "    # Flatten layer\n",
        "    nn.Flatten(),\n",
        "#size: 16\n",
        "    # Fully connected layers\n",
        "    nn.Linear(16 * 16 * 24, 8 * 8 * 12),\n",
        "    nn.ReLU(),\n",
        "    nn.Linear(8 * 8 * 12, 4 * 4 * 6),\n",
        "    nn.ReLU(),\n",
        "     nn.Linear(4 * 4 * 6, 2 * 2 * 3),\n",
        "    nn.ReLU(),\n",
        "     nn.Linear(2 * 2 * 3, 50),\n",
        "    nn.ReLU(),\n",
        "    nn.Linear(50, 3),\n",
        "\n",
        ")\n",
        "optimizer = torch.optim.Adam(model.parameters(), lr=0.001)\n",
        "criterion = nn.CrossEntropyLoss()\n",
        "print(model)\n"
      ],
      "metadata": {
        "colab": {
          "base_uri": "https://localhost:8080/"
        },
        "id": "dFnX5aYXyuaC",
        "outputId": "93aca116-f125-44d9-9dc6-96619603ce22"
      },
      "execution_count": null,
      "outputs": [
        {
          "output_type": "stream",
          "name": "stdout",
          "text": [
            "Sequential(\n",
            "  (0): Conv2d(3, 6, kernel_size=(3, 3), stride=(1, 1), padding=(1, 1))\n",
            "  (1): MaxPool2d(kernel_size=2, stride=2, padding=0, dilation=1, ceil_mode=False)\n",
            "  (2): BatchNorm2d(6, eps=1e-05, momentum=0.1, affine=True, track_running_stats=True)\n",
            "  (3): ReLU()\n",
            "  (4): Conv2d(6, 12, kernel_size=(3, 3), stride=(1, 1), padding=(1, 1))\n",
            "  (5): MaxPool2d(kernel_size=2, stride=2, padding=0, dilation=1, ceil_mode=False)\n",
            "  (6): BatchNorm2d(12, eps=1e-05, momentum=0.1, affine=True, track_running_stats=True)\n",
            "  (7): ReLU()\n",
            "  (8): Conv2d(12, 24, kernel_size=(3, 3), stride=(1, 1), padding=(1, 1))\n",
            "  (9): MaxPool2d(kernel_size=2, stride=2, padding=0, dilation=1, ceil_mode=False)\n",
            "  (10): BatchNorm2d(24, eps=1e-05, momentum=0.1, affine=True, track_running_stats=True)\n",
            "  (11): ReLU()\n",
            "  (12): Flatten(start_dim=1, end_dim=-1)\n",
            "  (13): Linear(in_features=6144, out_features=768, bias=True)\n",
            "  (14): ReLU()\n",
            "  (15): Linear(in_features=768, out_features=96, bias=True)\n",
            "  (16): ReLU()\n",
            "  (17): Linear(in_features=96, out_features=12, bias=True)\n",
            "  (18): ReLU()\n",
            "  (19): Linear(in_features=12, out_features=50, bias=True)\n",
            "  (20): ReLU()\n",
            "  (21): Linear(in_features=50, out_features=3, bias=True)\n",
            ")\n"
          ]
        }
      ]
    },
    {
      "cell_type": "code",
      "source": [
        "from tqdm import tqdm\n",
        "\n",
        "for i in tqdm(range(10)):\n",
        "    for data, label in train_loader:\n",
        "        # Uncomment to debug data shapes\n",
        "        # print(\"data in train loader:\", data.shape)\n",
        "\n",
        "        input_data = data\n",
        "        # Uncomment to debug input data shape\n",
        "        # print(\"data after view:\", input_data.shape)\n",
        "\n",
        "        result = model(input_data)\n",
        "        print(\"result.shape:\", result.shape)\n",
        "\n",
        "        error = criterion(result, label)\n",
        "        print(\"error is:\", error)\n",
        "\n",
        "        optimizer.zero_grad()\n",
        "        error.backward()\n",
        "        optimizer.step()\n"
      ],
      "metadata": {
        "colab": {
          "base_uri": "https://localhost:8080/"
        },
        "id": "VAHwqJs300Xr",
        "outputId": "5f473c0e-de5c-4fdb-aaee-fa41a6d0bf81"
      },
      "execution_count": null,
      "outputs": [
        {
          "output_type": "stream",
          "name": "stderr",
          "text": [
            "\r  0%|          | 0/10 [00:00<?, ?it/s]"
          ]
        },
        {
          "output_type": "stream",
          "name": "stdout",
          "text": [
            "result.shape: torch.Size([8, 3])\n",
            "error is: tensor(1.0671, grad_fn=<NllLossBackward0>)\n",
            "result.shape: torch.Size([8, 3])\n",
            "error is: tensor(1.1249, grad_fn=<NllLossBackward0>)\n",
            "result.shape: torch.Size([8, 3])\n",
            "error is: tensor(1.0482, grad_fn=<NllLossBackward0>)\n",
            "result.shape: torch.Size([8, 3])\n",
            "error is: tensor(1.1454, grad_fn=<NllLossBackward0>)\n",
            "result.shape: torch.Size([8, 3])\n",
            "error is: tensor(1.1862, grad_fn=<NllLossBackward0>)\n",
            "result.shape: torch.Size([8, 3])\n",
            "error is: tensor(1.0603, grad_fn=<NllLossBackward0>)\n",
            "result.shape: torch.Size([8, 3])\n",
            "error is: tensor(0.9995, grad_fn=<NllLossBackward0>)\n",
            "result.shape: torch.Size([8, 3])\n",
            "error is: tensor(0.9261, grad_fn=<NllLossBackward0>)\n",
            "result.shape: torch.Size([8, 3])\n",
            "error is: tensor(0.8045, grad_fn=<NllLossBackward0>)\n",
            "result.shape: torch.Size([8, 3])\n",
            "error is: tensor(0.9563, grad_fn=<NllLossBackward0>)\n",
            "result.shape: torch.Size([8, 3])\n",
            "error is: tensor(1.0823, grad_fn=<NllLossBackward0>)\n",
            "result.shape: torch.Size([8, 3])\n",
            "error is: tensor(0.9255, grad_fn=<NllLossBackward0>)\n",
            "result.shape: torch.Size([8, 3])\n",
            "error is: tensor(0.7475, grad_fn=<NllLossBackward0>)\n",
            "result.shape: torch.Size([8, 3])\n",
            "error is: tensor(0.6297, grad_fn=<NllLossBackward0>)\n",
            "result.shape: torch.Size([8, 3])\n",
            "error is: tensor(0.9514, grad_fn=<NllLossBackward0>)\n",
            "result.shape: torch.Size([8, 3])\n",
            "error is: tensor(0.7031, grad_fn=<NllLossBackward0>)\n",
            "result.shape: torch.Size([8, 3])\n",
            "error is: tensor(0.9146, grad_fn=<NllLossBackward0>)\n",
            "result.shape: torch.Size([8, 3])\n",
            "error is: tensor(0.6683, grad_fn=<NllLossBackward0>)\n",
            "result.shape: torch.Size([8, 3])\n",
            "error is: tensor(0.5617, grad_fn=<NllLossBackward0>)\n",
            "result.shape: torch.Size([8, 3])\n",
            "error is: tensor(0.4520, grad_fn=<NllLossBackward0>)\n",
            "result.shape: torch.Size([8, 3])\n",
            "error is: tensor(0.1576, grad_fn=<NllLossBackward0>)\n",
            "result.shape: torch.Size([8, 3])\n",
            "error is: tensor(0.4942, grad_fn=<NllLossBackward0>)\n",
            "result.shape: torch.Size([8, 3])\n",
            "error is: tensor(0.1153, grad_fn=<NllLossBackward0>)\n",
            "result.shape: torch.Size([8, 3])\n",
            "error is: tensor(0.1901, grad_fn=<NllLossBackward0>)\n",
            "result.shape: torch.Size([8, 3])\n",
            "error is: tensor(0.4949, grad_fn=<NllLossBackward0>)\n",
            "result.shape: torch.Size([8, 3])\n",
            "error is: tensor(0.5529, grad_fn=<NllLossBackward0>)\n",
            "result.shape: torch.Size([8, 3])\n",
            "error is: tensor(0.2609, grad_fn=<NllLossBackward0>)\n",
            "result.shape: torch.Size([8, 3])\n",
            "error is: tensor(0.3233, grad_fn=<NllLossBackward0>)\n",
            "result.shape: torch.Size([8, 3])\n",
            "error is: tensor(0.6262, grad_fn=<NllLossBackward0>)\n",
            "result.shape: torch.Size([8, 3])\n",
            "error is: tensor(0.1857, grad_fn=<NllLossBackward0>)\n",
            "result.shape: torch.Size([8, 3])\n",
            "error is: tensor(0.2000, grad_fn=<NllLossBackward0>)\n",
            "result.shape: torch.Size([3, 3])\n",
            "error is: tensor(0.1944, grad_fn=<NllLossBackward0>)\n"
          ]
        },
        {
          "output_type": "stream",
          "name": "stderr",
          "text": [
            "\r 10%|█         | 1/10 [00:13<02:05, 13.96s/it]"
          ]
        },
        {
          "output_type": "stream",
          "name": "stdout",
          "text": [
            "result.shape: torch.Size([8, 3])\n",
            "error is: tensor(0.1183, grad_fn=<NllLossBackward0>)\n",
            "result.shape: torch.Size([8, 3])\n",
            "error is: tensor(0.1556, grad_fn=<NllLossBackward0>)\n",
            "result.shape: torch.Size([8, 3])\n",
            "error is: tensor(0.1183, grad_fn=<NllLossBackward0>)\n",
            "result.shape: torch.Size([8, 3])\n",
            "error is: tensor(0.1124, grad_fn=<NllLossBackward0>)\n",
            "result.shape: torch.Size([8, 3])\n",
            "error is: tensor(0.4301, grad_fn=<NllLossBackward0>)\n",
            "result.shape: torch.Size([8, 3])\n",
            "error is: tensor(0.0855, grad_fn=<NllLossBackward0>)\n",
            "result.shape: torch.Size([8, 3])\n",
            "error is: tensor(1.0437, grad_fn=<NllLossBackward0>)\n",
            "result.shape: torch.Size([8, 3])\n",
            "error is: tensor(0.4113, grad_fn=<NllLossBackward0>)\n",
            "result.shape: torch.Size([8, 3])\n",
            "error is: tensor(1.4813, grad_fn=<NllLossBackward0>)\n",
            "result.shape: torch.Size([8, 3])\n",
            "error is: tensor(0.2092, grad_fn=<NllLossBackward0>)\n",
            "result.shape: torch.Size([8, 3])\n",
            "error is: tensor(0.1934, grad_fn=<NllLossBackward0>)\n",
            "result.shape: torch.Size([8, 3])\n",
            "error is: tensor(0.4454, grad_fn=<NllLossBackward0>)\n",
            "result.shape: torch.Size([8, 3])\n",
            "error is: tensor(0.3852, grad_fn=<NllLossBackward0>)\n",
            "result.shape: torch.Size([8, 3])\n",
            "error is: tensor(0.0632, grad_fn=<NllLossBackward0>)\n",
            "result.shape: torch.Size([8, 3])\n",
            "error is: tensor(0.1185, grad_fn=<NllLossBackward0>)\n",
            "result.shape: torch.Size([8, 3])\n",
            "error is: tensor(0.0516, grad_fn=<NllLossBackward0>)\n",
            "result.shape: torch.Size([8, 3])\n",
            "error is: tensor(0.2060, grad_fn=<NllLossBackward0>)\n",
            "result.shape: torch.Size([8, 3])\n",
            "error is: tensor(0.5047, grad_fn=<NllLossBackward0>)\n",
            "result.shape: torch.Size([8, 3])\n",
            "error is: tensor(0.1107, grad_fn=<NllLossBackward0>)\n",
            "result.shape: torch.Size([8, 3])\n",
            "error is: tensor(0.0896, grad_fn=<NllLossBackward0>)\n",
            "result.shape: torch.Size([8, 3])\n",
            "error is: tensor(0.0831, grad_fn=<NllLossBackward0>)\n",
            "result.shape: torch.Size([8, 3])\n",
            "error is: tensor(0.0189, grad_fn=<NllLossBackward0>)\n",
            "result.shape: torch.Size([8, 3])\n",
            "error is: tensor(0.2929, grad_fn=<NllLossBackward0>)\n",
            "result.shape: torch.Size([8, 3])\n",
            "error is: tensor(1.3329, grad_fn=<NllLossBackward0>)\n",
            "result.shape: torch.Size([8, 3])\n",
            "error is: tensor(0.1765, grad_fn=<NllLossBackward0>)\n",
            "result.shape: torch.Size([8, 3])\n",
            "error is: tensor(0.0997, grad_fn=<NllLossBackward0>)\n",
            "result.shape: torch.Size([8, 3])\n",
            "error is: tensor(0.2489, grad_fn=<NllLossBackward0>)\n",
            "result.shape: torch.Size([8, 3])\n",
            "error is: tensor(0.0230, grad_fn=<NllLossBackward0>)\n",
            "result.shape: torch.Size([8, 3])\n",
            "error is: tensor(0.0215, grad_fn=<NllLossBackward0>)\n",
            "result.shape: torch.Size([8, 3])\n",
            "error is: tensor(0.0385, grad_fn=<NllLossBackward0>)\n",
            "result.shape: torch.Size([8, 3])\n",
            "error is: tensor(0.0693, grad_fn=<NllLossBackward0>)\n",
            "result.shape: torch.Size([3, 3])\n",
            "error is: tensor(0.0283, grad_fn=<NllLossBackward0>)\n"
          ]
        },
        {
          "output_type": "stream",
          "name": "stderr",
          "text": [
            "\r 20%|██        | 2/10 [00:27<01:50, 13.82s/it]"
          ]
        },
        {
          "output_type": "stream",
          "name": "stdout",
          "text": [
            "result.shape: torch.Size([8, 3])\n",
            "error is: tensor(0.1573, grad_fn=<NllLossBackward0>)\n",
            "result.shape: torch.Size([8, 3])\n",
            "error is: tensor(0.0412, grad_fn=<NllLossBackward0>)\n",
            "result.shape: torch.Size([8, 3])\n",
            "error is: tensor(0.1445, grad_fn=<NllLossBackward0>)\n",
            "result.shape: torch.Size([8, 3])\n",
            "error is: tensor(0.2476, grad_fn=<NllLossBackward0>)\n",
            "result.shape: torch.Size([8, 3])\n",
            "error is: tensor(0.0289, grad_fn=<NllLossBackward0>)\n",
            "result.shape: torch.Size([8, 3])\n",
            "error is: tensor(0.0369, grad_fn=<NllLossBackward0>)\n",
            "result.shape: torch.Size([8, 3])\n",
            "error is: tensor(0.1064, grad_fn=<NllLossBackward0>)\n",
            "result.shape: torch.Size([8, 3])\n",
            "error is: tensor(0.0364, grad_fn=<NllLossBackward0>)\n",
            "result.shape: torch.Size([8, 3])\n",
            "error is: tensor(0.0260, grad_fn=<NllLossBackward0>)\n",
            "result.shape: torch.Size([8, 3])\n",
            "error is: tensor(0.1005, grad_fn=<NllLossBackward0>)\n",
            "result.shape: torch.Size([8, 3])\n",
            "error is: tensor(0.0586, grad_fn=<NllLossBackward0>)\n",
            "result.shape: torch.Size([8, 3])\n",
            "error is: tensor(0.3042, grad_fn=<NllLossBackward0>)\n",
            "result.shape: torch.Size([8, 3])\n",
            "error is: tensor(0.0207, grad_fn=<NllLossBackward0>)\n",
            "result.shape: torch.Size([8, 3])\n",
            "error is: tensor(0.0786, grad_fn=<NllLossBackward0>)\n",
            "result.shape: torch.Size([8, 3])\n",
            "error is: tensor(0.0239, grad_fn=<NllLossBackward0>)\n",
            "result.shape: torch.Size([8, 3])\n",
            "error is: tensor(0.0333, grad_fn=<NllLossBackward0>)\n",
            "result.shape: torch.Size([8, 3])\n",
            "error is: tensor(0.0214, grad_fn=<NllLossBackward0>)\n",
            "result.shape: torch.Size([8, 3])\n",
            "error is: tensor(0.0057, grad_fn=<NllLossBackward0>)\n",
            "result.shape: torch.Size([8, 3])\n",
            "error is: tensor(0.1313, grad_fn=<NllLossBackward0>)\n",
            "result.shape: torch.Size([8, 3])\n",
            "error is: tensor(0.0063, grad_fn=<NllLossBackward0>)\n",
            "result.shape: torch.Size([8, 3])\n",
            "error is: tensor(0.0236, grad_fn=<NllLossBackward0>)\n",
            "result.shape: torch.Size([8, 3])\n",
            "error is: tensor(0.0089, grad_fn=<NllLossBackward0>)\n",
            "result.shape: torch.Size([8, 3])\n",
            "error is: tensor(0.0513, grad_fn=<NllLossBackward0>)\n",
            "result.shape: torch.Size([8, 3])\n",
            "error is: tensor(0.0025, grad_fn=<NllLossBackward0>)\n",
            "result.shape: torch.Size([8, 3])\n",
            "error is: tensor(0.0162, grad_fn=<NllLossBackward0>)\n",
            "result.shape: torch.Size([8, 3])\n",
            "error is: tensor(0.0041, grad_fn=<NllLossBackward0>)\n",
            "result.shape: torch.Size([8, 3])\n",
            "error is: tensor(0.0466, grad_fn=<NllLossBackward0>)\n",
            "result.shape: torch.Size([8, 3])\n",
            "error is: tensor(0.3332, grad_fn=<NllLossBackward0>)\n",
            "result.shape: torch.Size([8, 3])\n",
            "error is: tensor(0.1808, grad_fn=<NllLossBackward0>)\n",
            "result.shape: torch.Size([8, 3])\n",
            "error is: tensor(0.0046, grad_fn=<NllLossBackward0>)\n",
            "result.shape: torch.Size([8, 3])\n",
            "error is: tensor(0.0034, grad_fn=<NllLossBackward0>)\n"
          ]
        },
        {
          "output_type": "stream",
          "name": "stderr",
          "text": [
            "\r 30%|███       | 3/10 [00:41<01:36, 13.79s/it]"
          ]
        },
        {
          "output_type": "stream",
          "name": "stdout",
          "text": [
            "result.shape: torch.Size([3, 3])\n",
            "error is: tensor(0.0005, grad_fn=<NllLossBackward0>)\n",
            "result.shape: torch.Size([8, 3])\n",
            "error is: tensor(0.1373, grad_fn=<NllLossBackward0>)\n",
            "result.shape: torch.Size([8, 3])\n",
            "error is: tensor(0.0160, grad_fn=<NllLossBackward0>)\n",
            "result.shape: torch.Size([8, 3])\n",
            "error is: tensor(0.0354, grad_fn=<NllLossBackward0>)\n",
            "result.shape: torch.Size([8, 3])\n",
            "error is: tensor(0.0277, grad_fn=<NllLossBackward0>)\n",
            "result.shape: torch.Size([8, 3])\n",
            "error is: tensor(0.7143, grad_fn=<NllLossBackward0>)\n",
            "result.shape: torch.Size([8, 3])\n",
            "error is: tensor(0.0292, grad_fn=<NllLossBackward0>)\n",
            "result.shape: torch.Size([8, 3])\n",
            "error is: tensor(0.0790, grad_fn=<NllLossBackward0>)\n",
            "result.shape: torch.Size([8, 3])\n",
            "error is: tensor(0.3819, grad_fn=<NllLossBackward0>)\n",
            "result.shape: torch.Size([8, 3])\n",
            "error is: tensor(0.1579, grad_fn=<NllLossBackward0>)\n",
            "result.shape: torch.Size([8, 3])\n",
            "error is: tensor(0.1485, grad_fn=<NllLossBackward0>)\n",
            "result.shape: torch.Size([8, 3])\n",
            "error is: tensor(0.0340, grad_fn=<NllLossBackward0>)\n",
            "result.shape: torch.Size([8, 3])\n",
            "error is: tensor(0.2742, grad_fn=<NllLossBackward0>)\n",
            "result.shape: torch.Size([8, 3])\n",
            "error is: tensor(0.2539, grad_fn=<NllLossBackward0>)\n",
            "result.shape: torch.Size([8, 3])\n",
            "error is: tensor(0.0142, grad_fn=<NllLossBackward0>)\n",
            "result.shape: torch.Size([8, 3])\n",
            "error is: tensor(0.0025, grad_fn=<NllLossBackward0>)\n",
            "result.shape: torch.Size([8, 3])\n",
            "error is: tensor(0.0071, grad_fn=<NllLossBackward0>)\n",
            "result.shape: torch.Size([8, 3])\n",
            "error is: tensor(0.0129, grad_fn=<NllLossBackward0>)\n",
            "result.shape: torch.Size([8, 3])\n",
            "error is: tensor(0.0032, grad_fn=<NllLossBackward0>)\n",
            "result.shape: torch.Size([8, 3])\n",
            "error is: tensor(0.0263, grad_fn=<NllLossBackward0>)\n",
            "result.shape: torch.Size([8, 3])\n",
            "error is: tensor(0.0779, grad_fn=<NllLossBackward0>)\n",
            "result.shape: torch.Size([8, 3])\n",
            "error is: tensor(0.0703, grad_fn=<NllLossBackward0>)\n",
            "result.shape: torch.Size([8, 3])\n",
            "error is: tensor(0.0118, grad_fn=<NllLossBackward0>)\n",
            "result.shape: torch.Size([8, 3])\n",
            "error is: tensor(0.0427, grad_fn=<NllLossBackward0>)\n",
            "result.shape: torch.Size([8, 3])\n",
            "error is: tensor(0.0575, grad_fn=<NllLossBackward0>)\n",
            "result.shape: torch.Size([8, 3])\n",
            "error is: tensor(0.2246, grad_fn=<NllLossBackward0>)\n",
            "result.shape: torch.Size([8, 3])\n",
            "error is: tensor(0.0171, grad_fn=<NllLossBackward0>)\n",
            "result.shape: torch.Size([8, 3])\n",
            "error is: tensor(0.0125, grad_fn=<NllLossBackward0>)\n",
            "result.shape: torch.Size([8, 3])\n",
            "error is: tensor(0.0387, grad_fn=<NllLossBackward0>)\n",
            "result.shape: torch.Size([8, 3])\n",
            "error is: tensor(0.0109, grad_fn=<NllLossBackward0>)\n",
            "result.shape: torch.Size([8, 3])\n",
            "error is: tensor(0.0049, grad_fn=<NllLossBackward0>)\n",
            "result.shape: torch.Size([8, 3])\n",
            "error is: tensor(0.0046, grad_fn=<NllLossBackward0>)\n"
          ]
        },
        {
          "output_type": "stream",
          "name": "stderr",
          "text": [
            "\r 40%|████      | 4/10 [00:55<01:23, 13.89s/it]"
          ]
        },
        {
          "output_type": "stream",
          "name": "stdout",
          "text": [
            "result.shape: torch.Size([3, 3])\n",
            "error is: tensor(2.1974e-05, grad_fn=<NllLossBackward0>)\n",
            "result.shape: torch.Size([8, 3])\n",
            "error is: tensor(0.0072, grad_fn=<NllLossBackward0>)\n",
            "result.shape: torch.Size([8, 3])\n",
            "error is: tensor(0.0013, grad_fn=<NllLossBackward0>)\n",
            "result.shape: torch.Size([8, 3])\n",
            "error is: tensor(0.0006, grad_fn=<NllLossBackward0>)\n",
            "result.shape: torch.Size([8, 3])\n",
            "error is: tensor(0.4670, grad_fn=<NllLossBackward0>)\n",
            "result.shape: torch.Size([8, 3])\n",
            "error is: tensor(0.2458, grad_fn=<NllLossBackward0>)\n",
            "result.shape: torch.Size([8, 3])\n",
            "error is: tensor(0.0047, grad_fn=<NllLossBackward0>)\n",
            "result.shape: torch.Size([8, 3])\n",
            "error is: tensor(0.1173, grad_fn=<NllLossBackward0>)\n",
            "result.shape: torch.Size([8, 3])\n",
            "error is: tensor(0.0001, grad_fn=<NllLossBackward0>)\n",
            "result.shape: torch.Size([8, 3])\n",
            "error is: tensor(0.0041, grad_fn=<NllLossBackward0>)\n",
            "result.shape: torch.Size([8, 3])\n",
            "error is: tensor(0.0373, grad_fn=<NllLossBackward0>)\n",
            "result.shape: torch.Size([8, 3])\n",
            "error is: tensor(0.0011, grad_fn=<NllLossBackward0>)\n",
            "result.shape: torch.Size([8, 3])\n",
            "error is: tensor(0.1051, grad_fn=<NllLossBackward0>)\n",
            "result.shape: torch.Size([8, 3])\n",
            "error is: tensor(0.0039, grad_fn=<NllLossBackward0>)\n",
            "result.shape: torch.Size([8, 3])\n",
            "error is: tensor(0.0300, grad_fn=<NllLossBackward0>)\n",
            "result.shape: torch.Size([8, 3])\n",
            "error is: tensor(0.0010, grad_fn=<NllLossBackward0>)\n",
            "result.shape: torch.Size([8, 3])\n",
            "error is: tensor(0.0921, grad_fn=<NllLossBackward0>)\n",
            "result.shape: torch.Size([8, 3])\n",
            "error is: tensor(0.0003, grad_fn=<NllLossBackward0>)\n",
            "result.shape: torch.Size([8, 3])\n",
            "error is: tensor(0.0034, grad_fn=<NllLossBackward0>)\n",
            "result.shape: torch.Size([8, 3])\n",
            "error is: tensor(0.0067, grad_fn=<NllLossBackward0>)\n",
            "result.shape: torch.Size([8, 3])\n",
            "error is: tensor(0.2062, grad_fn=<NllLossBackward0>)\n",
            "result.shape: torch.Size([8, 3])\n",
            "error is: tensor(0.0426, grad_fn=<NllLossBackward0>)\n",
            "result.shape: torch.Size([8, 3])\n",
            "error is: tensor(0.0090, grad_fn=<NllLossBackward0>)\n",
            "result.shape: torch.Size([8, 3])\n",
            "error is: tensor(0.0020, grad_fn=<NllLossBackward0>)\n",
            "result.shape: torch.Size([8, 3])\n",
            "error is: tensor(0.0008, grad_fn=<NllLossBackward0>)\n",
            "result.shape: torch.Size([8, 3])\n",
            "error is: tensor(0.1357, grad_fn=<NllLossBackward0>)\n",
            "result.shape: torch.Size([8, 3])\n",
            "error is: tensor(0.1391, grad_fn=<NllLossBackward0>)\n",
            "result.shape: torch.Size([8, 3])\n",
            "error is: tensor(0.0007, grad_fn=<NllLossBackward0>)\n",
            "result.shape: torch.Size([8, 3])\n",
            "error is: tensor(0.0090, grad_fn=<NllLossBackward0>)\n",
            "result.shape: torch.Size([8, 3])\n",
            "error is: tensor(0.0517, grad_fn=<NllLossBackward0>)\n",
            "result.shape: torch.Size([8, 3])\n",
            "error is: tensor(0.0006, grad_fn=<NllLossBackward0>)\n",
            "result.shape: torch.Size([8, 3])\n",
            "error is: tensor(0.0062, grad_fn=<NllLossBackward0>)\n"
          ]
        },
        {
          "output_type": "stream",
          "name": "stderr",
          "text": [
            "\r 50%|█████     | 5/10 [01:11<01:13, 14.67s/it]"
          ]
        },
        {
          "output_type": "stream",
          "name": "stdout",
          "text": [
            "result.shape: torch.Size([3, 3])\n",
            "error is: tensor(8.8129e-05, grad_fn=<NllLossBackward0>)\n",
            "result.shape: torch.Size([8, 3])\n",
            "error is: tensor(0.0010, grad_fn=<NllLossBackward0>)\n",
            "result.shape: torch.Size([8, 3])\n",
            "error is: tensor(0.0015, grad_fn=<NllLossBackward0>)\n",
            "result.shape: torch.Size([8, 3])\n",
            "error is: tensor(0.0101, grad_fn=<NllLossBackward0>)\n",
            "result.shape: torch.Size([8, 3])\n",
            "error is: tensor(0.0025, grad_fn=<NllLossBackward0>)\n",
            "result.shape: torch.Size([8, 3])\n",
            "error is: tensor(0.0029, grad_fn=<NllLossBackward0>)\n",
            "result.shape: torch.Size([8, 3])\n",
            "error is: tensor(0.0057, grad_fn=<NllLossBackward0>)\n",
            "result.shape: torch.Size([8, 3])\n",
            "error is: tensor(0.0022, grad_fn=<NllLossBackward0>)\n",
            "result.shape: torch.Size([8, 3])\n",
            "error is: tensor(0.0044, grad_fn=<NllLossBackward0>)\n",
            "result.shape: torch.Size([8, 3])\n",
            "error is: tensor(0.1485, grad_fn=<NllLossBackward0>)\n",
            "result.shape: torch.Size([8, 3])\n",
            "error is: tensor(0.0005, grad_fn=<NllLossBackward0>)\n",
            "result.shape: torch.Size([8, 3])\n",
            "error is: tensor(9.0754e-05, grad_fn=<NllLossBackward0>)\n",
            "result.shape: torch.Size([8, 3])\n",
            "error is: tensor(0.0025, grad_fn=<NllLossBackward0>)\n",
            "result.shape: torch.Size([8, 3])\n",
            "error is: tensor(0.0059, grad_fn=<NllLossBackward0>)\n",
            "result.shape: torch.Size([8, 3])\n",
            "error is: tensor(0.0033, grad_fn=<NllLossBackward0>)\n",
            "result.shape: torch.Size([8, 3])\n",
            "error is: tensor(0.0492, grad_fn=<NllLossBackward0>)\n",
            "result.shape: torch.Size([8, 3])\n",
            "error is: tensor(0.0009, grad_fn=<NllLossBackward0>)\n",
            "result.shape: torch.Size([8, 3])\n",
            "error is: tensor(0.0002, grad_fn=<NllLossBackward0>)\n",
            "result.shape: torch.Size([8, 3])\n",
            "error is: tensor(0.3582, grad_fn=<NllLossBackward0>)\n",
            "result.shape: torch.Size([8, 3])\n",
            "error is: tensor(0.0013, grad_fn=<NllLossBackward0>)\n",
            "result.shape: torch.Size([8, 3])\n",
            "error is: tensor(0.0060, grad_fn=<NllLossBackward0>)\n",
            "result.shape: torch.Size([8, 3])\n",
            "error is: tensor(0.0054, grad_fn=<NllLossBackward0>)\n",
            "result.shape: torch.Size([8, 3])\n",
            "error is: tensor(0.0018, grad_fn=<NllLossBackward0>)\n",
            "result.shape: torch.Size([8, 3])\n",
            "error is: tensor(0.0885, grad_fn=<NllLossBackward0>)\n",
            "result.shape: torch.Size([8, 3])\n",
            "error is: tensor(0.0023, grad_fn=<NllLossBackward0>)\n",
            "result.shape: torch.Size([8, 3])\n",
            "error is: tensor(0.0029, grad_fn=<NllLossBackward0>)\n",
            "result.shape: torch.Size([8, 3])\n",
            "error is: tensor(0.0002, grad_fn=<NllLossBackward0>)\n",
            "result.shape: torch.Size([8, 3])\n",
            "error is: tensor(0.0076, grad_fn=<NllLossBackward0>)\n",
            "result.shape: torch.Size([8, 3])\n",
            "error is: tensor(0.0355, grad_fn=<NllLossBackward0>)\n",
            "result.shape: torch.Size([8, 3])\n",
            "error is: tensor(0.0052, grad_fn=<NllLossBackward0>)\n",
            "result.shape: torch.Size([8, 3])\n",
            "error is: tensor(0.2280, grad_fn=<NllLossBackward0>)\n",
            "result.shape: torch.Size([8, 3])\n",
            "error is: tensor(0.0006, grad_fn=<NllLossBackward0>)\n"
          ]
        },
        {
          "output_type": "stream",
          "name": "stderr",
          "text": [
            "\r 60%|██████    | 6/10 [01:25<00:57, 14.37s/it]"
          ]
        },
        {
          "output_type": "stream",
          "name": "stdout",
          "text": [
            "result.shape: torch.Size([3, 3])\n",
            "error is: tensor(0.0093, grad_fn=<NllLossBackward0>)\n",
            "result.shape: torch.Size([8, 3])\n",
            "error is: tensor(0.0008, grad_fn=<NllLossBackward0>)\n",
            "result.shape: torch.Size([8, 3])\n",
            "error is: tensor(0.1326, grad_fn=<NllLossBackward0>)\n",
            "result.shape: torch.Size([8, 3])\n",
            "error is: tensor(0.0062, grad_fn=<NllLossBackward0>)\n",
            "result.shape: torch.Size([8, 3])\n",
            "error is: tensor(0.0010, grad_fn=<NllLossBackward0>)\n",
            "result.shape: torch.Size([8, 3])\n",
            "error is: tensor(0.0131, grad_fn=<NllLossBackward0>)\n",
            "result.shape: torch.Size([8, 3])\n",
            "error is: tensor(0.0016, grad_fn=<NllLossBackward0>)\n",
            "result.shape: torch.Size([8, 3])\n",
            "error is: tensor(0.1793, grad_fn=<NllLossBackward0>)\n",
            "result.shape: torch.Size([8, 3])\n",
            "error is: tensor(0.0005, grad_fn=<NllLossBackward0>)\n",
            "result.shape: torch.Size([8, 3])\n",
            "error is: tensor(0.0001, grad_fn=<NllLossBackward0>)\n",
            "result.shape: torch.Size([8, 3])\n",
            "error is: tensor(0.0003, grad_fn=<NllLossBackward0>)\n",
            "result.shape: torch.Size([8, 3])\n",
            "error is: tensor(0.0028, grad_fn=<NllLossBackward0>)\n",
            "result.shape: torch.Size([8, 3])\n",
            "error is: tensor(0.0014, grad_fn=<NllLossBackward0>)\n",
            "result.shape: torch.Size([8, 3])\n",
            "error is: tensor(0.0017, grad_fn=<NllLossBackward0>)\n",
            "result.shape: torch.Size([8, 3])\n",
            "error is: tensor(0.0011, grad_fn=<NllLossBackward0>)\n",
            "result.shape: torch.Size([8, 3])\n",
            "error is: tensor(0.0042, grad_fn=<NllLossBackward0>)\n",
            "result.shape: torch.Size([8, 3])\n",
            "error is: tensor(0.0118, grad_fn=<NllLossBackward0>)\n",
            "result.shape: torch.Size([8, 3])\n",
            "error is: tensor(0.0856, grad_fn=<NllLossBackward0>)\n",
            "result.shape: torch.Size([8, 3])\n",
            "error is: tensor(0.0018, grad_fn=<NllLossBackward0>)\n",
            "result.shape: torch.Size([8, 3])\n",
            "error is: tensor(0.0014, grad_fn=<NllLossBackward0>)\n",
            "result.shape: torch.Size([8, 3])\n",
            "error is: tensor(0.0009, grad_fn=<NllLossBackward0>)\n",
            "result.shape: torch.Size([8, 3])\n",
            "error is: tensor(0.0116, grad_fn=<NllLossBackward0>)\n",
            "result.shape: torch.Size([8, 3])\n",
            "error is: tensor(0.0004, grad_fn=<NllLossBackward0>)\n",
            "result.shape: torch.Size([8, 3])\n",
            "error is: tensor(0.0025, grad_fn=<NllLossBackward0>)\n",
            "result.shape: torch.Size([8, 3])\n",
            "error is: tensor(0.0005, grad_fn=<NllLossBackward0>)\n",
            "result.shape: torch.Size([8, 3])\n",
            "error is: tensor(0.0006, grad_fn=<NllLossBackward0>)\n",
            "result.shape: torch.Size([8, 3])\n",
            "error is: tensor(0.0062, grad_fn=<NllLossBackward0>)\n",
            "result.shape: torch.Size([8, 3])\n",
            "error is: tensor(0.0004, grad_fn=<NllLossBackward0>)\n",
            "result.shape: torch.Size([8, 3])\n",
            "error is: tensor(0.0005, grad_fn=<NllLossBackward0>)\n",
            "result.shape: torch.Size([8, 3])\n",
            "error is: tensor(0.0013, grad_fn=<NllLossBackward0>)\n",
            "result.shape: torch.Size([8, 3])\n",
            "error is: tensor(0.0005, grad_fn=<NllLossBackward0>)\n",
            "result.shape: torch.Size([8, 3])\n",
            "error is: tensor(0.0270, grad_fn=<NllLossBackward0>)\n",
            "result.shape: torch.Size([3, 3])\n",
            "error is: tensor(0.0001, grad_fn=<NllLossBackward0>)\n"
          ]
        },
        {
          "output_type": "stream",
          "name": "stderr",
          "text": [
            "\r 70%|███████   | 7/10 [01:39<00:42, 14.16s/it]"
          ]
        },
        {
          "output_type": "stream",
          "name": "stdout",
          "text": [
            "result.shape: torch.Size([8, 3])\n",
            "error is: tensor(0.0003, grad_fn=<NllLossBackward0>)\n",
            "result.shape: torch.Size([8, 3])\n",
            "error is: tensor(0.0014, grad_fn=<NllLossBackward0>)\n",
            "result.shape: torch.Size([8, 3])\n",
            "error is: tensor(0.0248, grad_fn=<NllLossBackward0>)\n",
            "result.shape: torch.Size([8, 3])\n",
            "error is: tensor(0.0002, grad_fn=<NllLossBackward0>)\n",
            "result.shape: torch.Size([8, 3])\n",
            "error is: tensor(0.0014, grad_fn=<NllLossBackward0>)\n",
            "result.shape: torch.Size([8, 3])\n",
            "error is: tensor(0.0001, grad_fn=<NllLossBackward0>)\n",
            "result.shape: torch.Size([8, 3])\n",
            "error is: tensor(0.0013, grad_fn=<NllLossBackward0>)\n",
            "result.shape: torch.Size([8, 3])\n",
            "error is: tensor(0.0003, grad_fn=<NllLossBackward0>)\n",
            "result.shape: torch.Size([8, 3])\n",
            "error is: tensor(0.0016, grad_fn=<NllLossBackward0>)\n",
            "result.shape: torch.Size([8, 3])\n",
            "error is: tensor(0.0008, grad_fn=<NllLossBackward0>)\n",
            "result.shape: torch.Size([8, 3])\n",
            "error is: tensor(1.5527e-05, grad_fn=<NllLossBackward0>)\n",
            "result.shape: torch.Size([8, 3])\n",
            "error is: tensor(0.0634, grad_fn=<NllLossBackward0>)\n",
            "result.shape: torch.Size([8, 3])\n",
            "error is: tensor(0.0041, grad_fn=<NllLossBackward0>)\n",
            "result.shape: torch.Size([8, 3])\n",
            "error is: tensor(0.0007, grad_fn=<NllLossBackward0>)\n",
            "result.shape: torch.Size([8, 3])\n",
            "error is: tensor(3.4762e-05, grad_fn=<NllLossBackward0>)\n",
            "result.shape: torch.Size([8, 3])\n",
            "error is: tensor(0.0209, grad_fn=<NllLossBackward0>)\n",
            "result.shape: torch.Size([8, 3])\n",
            "error is: tensor(0.0019, grad_fn=<NllLossBackward0>)\n",
            "result.shape: torch.Size([8, 3])\n",
            "error is: tensor(0.0005, grad_fn=<NllLossBackward0>)\n",
            "result.shape: torch.Size([8, 3])\n",
            "error is: tensor(0.0008, grad_fn=<NllLossBackward0>)\n",
            "result.shape: torch.Size([8, 3])\n",
            "error is: tensor(0.0002, grad_fn=<NllLossBackward0>)\n",
            "result.shape: torch.Size([8, 3])\n",
            "error is: tensor(0.0003, grad_fn=<NllLossBackward0>)\n",
            "result.shape: torch.Size([8, 3])\n",
            "error is: tensor(0.0013, grad_fn=<NllLossBackward0>)\n",
            "result.shape: torch.Size([8, 3])\n",
            "error is: tensor(0.0006, grad_fn=<NllLossBackward0>)\n",
            "result.shape: torch.Size([8, 3])\n",
            "error is: tensor(0.0009, grad_fn=<NllLossBackward0>)\n",
            "result.shape: torch.Size([8, 3])\n",
            "error is: tensor(0.0005, grad_fn=<NllLossBackward0>)\n",
            "result.shape: torch.Size([8, 3])\n",
            "error is: tensor(0.0007, grad_fn=<NllLossBackward0>)\n",
            "result.shape: torch.Size([8, 3])\n",
            "error is: tensor(0.0002, grad_fn=<NllLossBackward0>)\n",
            "result.shape: torch.Size([8, 3])\n",
            "error is: tensor(0.0571, grad_fn=<NllLossBackward0>)\n",
            "result.shape: torch.Size([8, 3])\n",
            "error is: tensor(0.0007, grad_fn=<NllLossBackward0>)\n",
            "result.shape: torch.Size([8, 3])\n",
            "error is: tensor(0.6188, grad_fn=<NllLossBackward0>)\n",
            "result.shape: torch.Size([8, 3])\n",
            "error is: tensor(4.5072e-05, grad_fn=<NllLossBackward0>)\n",
            "result.shape: torch.Size([3, 3])\n",
            "error is: tensor(0.0004, grad_fn=<NllLossBackward0>)\n"
          ]
        },
        {
          "output_type": "stream",
          "name": "stderr",
          "text": [
            "\r 80%|████████  | 8/10 [01:52<00:28, 14.03s/it]"
          ]
        },
        {
          "output_type": "stream",
          "name": "stdout",
          "text": [
            "result.shape: torch.Size([8, 3])\n",
            "error is: tensor(1.3843e-05, grad_fn=<NllLossBackward0>)\n",
            "result.shape: torch.Size([8, 3])\n",
            "error is: tensor(7.8565e-05, grad_fn=<NllLossBackward0>)\n",
            "result.shape: torch.Size([8, 3])\n",
            "error is: tensor(0.5051, grad_fn=<NllLossBackward0>)\n",
            "result.shape: torch.Size([8, 3])\n",
            "error is: tensor(0.0040, grad_fn=<NllLossBackward0>)\n",
            "result.shape: torch.Size([8, 3])\n",
            "error is: tensor(0.0052, grad_fn=<NllLossBackward0>)\n",
            "result.shape: torch.Size([8, 3])\n",
            "error is: tensor(0.0033, grad_fn=<NllLossBackward0>)\n",
            "result.shape: torch.Size([8, 3])\n",
            "error is: tensor(0.0030, grad_fn=<NllLossBackward0>)\n",
            "result.shape: torch.Size([8, 3])\n",
            "error is: tensor(0.0151, grad_fn=<NllLossBackward0>)\n",
            "result.shape: torch.Size([8, 3])\n",
            "error is: tensor(0.6132, grad_fn=<NllLossBackward0>)\n",
            "result.shape: torch.Size([8, 3])\n",
            "error is: tensor(0.7206, grad_fn=<NllLossBackward0>)\n",
            "result.shape: torch.Size([8, 3])\n",
            "error is: tensor(0.3245, grad_fn=<NllLossBackward0>)\n",
            "result.shape: torch.Size([8, 3])\n",
            "error is: tensor(0.1021, grad_fn=<NllLossBackward0>)\n",
            "result.shape: torch.Size([8, 3])\n",
            "error is: tensor(0.0027, grad_fn=<NllLossBackward0>)\n",
            "result.shape: torch.Size([8, 3])\n",
            "error is: tensor(0.0029, grad_fn=<NllLossBackward0>)\n",
            "result.shape: torch.Size([8, 3])\n",
            "error is: tensor(0.0723, grad_fn=<NllLossBackward0>)\n",
            "result.shape: torch.Size([8, 3])\n",
            "error is: tensor(0.0136, grad_fn=<NllLossBackward0>)\n",
            "result.shape: torch.Size([8, 3])\n",
            "error is: tensor(0.3015, grad_fn=<NllLossBackward0>)\n",
            "result.shape: torch.Size([8, 3])\n",
            "error is: tensor(0.0067, grad_fn=<NllLossBackward0>)\n",
            "result.shape: torch.Size([8, 3])\n",
            "error is: tensor(0.0706, grad_fn=<NllLossBackward0>)\n",
            "result.shape: torch.Size([8, 3])\n",
            "error is: tensor(0.1868, grad_fn=<NllLossBackward0>)\n",
            "result.shape: torch.Size([8, 3])\n",
            "error is: tensor(0.0507, grad_fn=<NllLossBackward0>)\n",
            "result.shape: torch.Size([8, 3])\n",
            "error is: tensor(0.0204, grad_fn=<NllLossBackward0>)\n",
            "result.shape: torch.Size([8, 3])\n",
            "error is: tensor(0.0433, grad_fn=<NllLossBackward0>)\n",
            "result.shape: torch.Size([8, 3])\n",
            "error is: tensor(0.0067, grad_fn=<NllLossBackward0>)\n",
            "result.shape: torch.Size([8, 3])\n",
            "error is: tensor(0.0293, grad_fn=<NllLossBackward0>)\n",
            "result.shape: torch.Size([8, 3])\n",
            "error is: tensor(0.0013, grad_fn=<NllLossBackward0>)\n",
            "result.shape: torch.Size([8, 3])\n",
            "error is: tensor(0.0007, grad_fn=<NllLossBackward0>)\n",
            "result.shape: torch.Size([8, 3])\n",
            "error is: tensor(0.0018, grad_fn=<NllLossBackward0>)\n",
            "result.shape: torch.Size([8, 3])\n",
            "error is: tensor(0.0138, grad_fn=<NllLossBackward0>)\n",
            "result.shape: torch.Size([8, 3])\n",
            "error is: tensor(0.0775, grad_fn=<NllLossBackward0>)\n",
            "result.shape: torch.Size([8, 3])\n",
            "error is: tensor(0.0120, grad_fn=<NllLossBackward0>)\n"
          ]
        },
        {
          "output_type": "stream",
          "name": "stderr",
          "text": [
            "\r 90%|█████████ | 9/10 [02:06<00:13, 13.94s/it]"
          ]
        },
        {
          "output_type": "stream",
          "name": "stdout",
          "text": [
            "result.shape: torch.Size([3, 3])\n",
            "error is: tensor(0.0039, grad_fn=<NllLossBackward0>)\n",
            "result.shape: torch.Size([8, 3])\n",
            "error is: tensor(0.0087, grad_fn=<NllLossBackward0>)\n",
            "result.shape: torch.Size([8, 3])\n",
            "error is: tensor(0.0153, grad_fn=<NllLossBackward0>)\n",
            "result.shape: torch.Size([8, 3])\n",
            "error is: tensor(0.0162, grad_fn=<NllLossBackward0>)\n",
            "result.shape: torch.Size([8, 3])\n",
            "error is: tensor(0.0012, grad_fn=<NllLossBackward0>)\n",
            "result.shape: torch.Size([8, 3])\n",
            "error is: tensor(0.0098, grad_fn=<NllLossBackward0>)\n",
            "result.shape: torch.Size([8, 3])\n",
            "error is: tensor(0.0008, grad_fn=<NllLossBackward0>)\n",
            "result.shape: torch.Size([8, 3])\n",
            "error is: tensor(5.8318e-05, grad_fn=<NllLossBackward0>)\n",
            "result.shape: torch.Size([8, 3])\n",
            "error is: tensor(0.0005, grad_fn=<NllLossBackward0>)\n",
            "result.shape: torch.Size([8, 3])\n",
            "error is: tensor(0.0010, grad_fn=<NllLossBackward0>)\n",
            "result.shape: torch.Size([8, 3])\n",
            "error is: tensor(8.1277e-05, grad_fn=<NllLossBackward0>)\n",
            "result.shape: torch.Size([8, 3])\n",
            "error is: tensor(0.0003, grad_fn=<NllLossBackward0>)\n",
            "result.shape: torch.Size([8, 3])\n",
            "error is: tensor(0.0003, grad_fn=<NllLossBackward0>)\n",
            "result.shape: torch.Size([8, 3])\n",
            "error is: tensor(0.0023, grad_fn=<NllLossBackward0>)\n",
            "result.shape: torch.Size([8, 3])\n",
            "error is: tensor(0.0014, grad_fn=<NllLossBackward0>)\n",
            "result.shape: torch.Size([8, 3])\n",
            "error is: tensor(0.0017, grad_fn=<NllLossBackward0>)\n",
            "result.shape: torch.Size([8, 3])\n",
            "error is: tensor(0.0082, grad_fn=<NllLossBackward0>)\n",
            "result.shape: torch.Size([8, 3])\n",
            "error is: tensor(0.0008, grad_fn=<NllLossBackward0>)\n",
            "result.shape: torch.Size([8, 3])\n",
            "error is: tensor(0.0015, grad_fn=<NllLossBackward0>)\n",
            "result.shape: torch.Size([8, 3])\n",
            "error is: tensor(0.0002, grad_fn=<NllLossBackward0>)\n",
            "result.shape: torch.Size([8, 3])\n",
            "error is: tensor(0.0001, grad_fn=<NllLossBackward0>)\n",
            "result.shape: torch.Size([8, 3])\n",
            "error is: tensor(0.0006, grad_fn=<NllLossBackward0>)\n",
            "result.shape: torch.Size([8, 3])\n",
            "error is: tensor(8.9660e-05, grad_fn=<NllLossBackward0>)\n",
            "result.shape: torch.Size([8, 3])\n",
            "error is: tensor(2.4213e-05, grad_fn=<NllLossBackward0>)\n",
            "result.shape: torch.Size([8, 3])\n",
            "error is: tensor(6.2980e-05, grad_fn=<NllLossBackward0>)\n",
            "result.shape: torch.Size([8, 3])\n",
            "error is: tensor(0.0015, grad_fn=<NllLossBackward0>)\n",
            "result.shape: torch.Size([8, 3])\n",
            "error is: tensor(0.0006, grad_fn=<NllLossBackward0>)\n",
            "result.shape: torch.Size([8, 3])\n",
            "error is: tensor(0.0020, grad_fn=<NllLossBackward0>)\n",
            "result.shape: torch.Size([8, 3])\n",
            "error is: tensor(0.0002, grad_fn=<NllLossBackward0>)\n",
            "result.shape: torch.Size([8, 3])\n",
            "error is: tensor(0.0004, grad_fn=<NllLossBackward0>)\n",
            "result.shape: torch.Size([8, 3])\n",
            "error is: tensor(2.8162e-05, grad_fn=<NllLossBackward0>)\n",
            "result.shape: torch.Size([8, 3])\n",
            "error is: tensor(1.3113e-05, grad_fn=<NllLossBackward0>)\n",
            "result.shape: torch.Size([3, 3])\n",
            "error is: tensor(0.0037, grad_fn=<NllLossBackward0>)\n"
          ]
        },
        {
          "output_type": "stream",
          "name": "stderr",
          "text": [
            "100%|██████████| 10/10 [02:20<00:00, 14.03s/it]\n"
          ]
        }
      ]
    },
    {
      "cell_type": "code",
      "source": [
        "num_correct = 0\n",
        "num_data = 0\n",
        "for data, label in train_loader:\n",
        "    input_data = data\n",
        "    num_data = num_data + input_data.shape[0]\n",
        "    result = model(input_data)\n",
        "    result = torch.argmax(result, dim=1)\n",
        "    num_correct = num_correct + sum((result == label).float())\n",
        "    percentage = 100*(num_correct/num_data)\n",
        "print('print train accuracy:', percentage)"
      ],
      "metadata": {
        "colab": {
          "base_uri": "https://localhost:8080/"
        },
        "id": "Pw0DgRKC2HTT",
        "outputId": "587855d0-7645-43c0-8a05-4feb92dc29d6"
      },
      "execution_count": null,
      "outputs": [
        {
          "output_type": "stream",
          "name": "stdout",
          "text": [
            "print train accuracy: tensor(100.)\n"
          ]
        }
      ]
    },
    {
      "cell_type": "code",
      "source": [
        "num_correct = 0\n",
        "num_data = 0\n",
        "for data, label in test_loader:\n",
        "    input_data = data\n",
        "    num_data = num_data + input_data.shape[0]\n",
        "    result = model(input_data)\n",
        "    result = torch.argmax(result, dim=1)\n",
        "    num_correct = num_correct + sum((result == label).float())\n",
        "    percentage = 100*(num_correct/num_data)\n",
        "print('print test accuracy:', percentage)"
      ],
      "metadata": {
        "colab": {
          "base_uri": "https://localhost:8080/"
        },
        "id": "iC3gTPo92wwt",
        "outputId": "d1b6d9a9-ea9c-4eea-99b1-ab3cd79f63c7"
      },
      "execution_count": null,
      "outputs": [
        {
          "output_type": "stream",
          "name": "stdout",
          "text": [
            "print test accuracy: tensor(90.9091)\n"
          ]
        }
      ]
    }
  ]
}